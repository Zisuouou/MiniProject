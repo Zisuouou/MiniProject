{
 "cells": [
  {
   "cell_type": "markdown",
   "id": "a7a8dca6",
   "metadata": {},
   "source": [
    "# 피마 인디어 당뇨병 데이터\n",
    "\n",
    "- 데이터 활용 목적 : 당뇨병 여부를 판단하는 머신러닝 예측 모델을 개발\n",
    "    - AUC가 가장 높은 모델\n",
    "- 데이터 개요\n",
    "    - 북아메리카 피자 지역 원주민의 Type-2 당뇨병 결과 데이터\n",
    "    - 일반적으로 알려진 당뇨병의 원인은 식습관과 유전\n",
    "        - 피마 지역은 고립된 지역에서 인디언 고유의 혈통이 지속됨\n",
    "        - 20세기 후반 서구화된 식습관으로 많은 당뇨 환자가 발생\n",
    "        \n",
    "    - 피처\n",
    "        - Pregnancies : 임신 횟수\n",
    "        - Glucose : 포도당 부하 검사 수치\n",
    "        - BloodPressure : 혈압(mm Hg)\n",
    "        - SkinThickness : 팔 삼두근 뒤쪽의 피하지방 측정값(mm)\n",
    "        - Insulin : 혈청 인슐린(mm U/ml)\n",
    "        - BMI : 체질량 지수(체중(kg) / 키(m))^2\n",
    "        - DiabetesPedigreeFuction : 당뇨 내력 가중치 값\n",
    "        - Age : 나이\n",
    "        - Outcome : 클래스 결정 값(0 또는 1)"
   ]
  },
  {
   "cell_type": "code",
   "execution_count": 204,
   "id": "70efe238",
   "metadata": {},
   "outputs": [],
   "source": [
    "import pandas as pd\n",
    "import numpy as np\n",
    "import matplotlib.pyplot as plt\n",
    "from scipy import stats\n",
    "\n",
    "from sklearn.model_selection import train_test_split, StratifiedKFold, GridSearchCV\n",
    "\n",
    "from sklearn.metrics import accuracy_score, precision_score, recall_score, roc_auc_score\n",
    "from sklearn.metrics import f1_score, confusion_matrix, precision_recall_curve, roc_curve\n",
    "\n",
    "from sklearn.preprocessing import StandardScaler, Binarizer\n",
    "from sklearn.linear_model import LogisticRegression\n",
    "\n",
    "\n",
    "import warnings\n",
    "warnings.filterwarnings('ignore')\n"
   ]
  },
  {
   "cell_type": "markdown",
   "id": "869eb3f3",
   "metadata": {},
   "source": [
    "# 데이터준비"
   ]
  },
  {
   "cell_type": "code",
   "execution_count": 205,
   "id": "59bce710",
   "metadata": {},
   "outputs": [],
   "source": [
    "df = pd.read_csv(\"./data/diabetes.csv\")"
   ]
  },
  {
   "cell_type": "code",
   "execution_count": 206,
   "id": "60cebcdd",
   "metadata": {},
   "outputs": [
    {
     "data": {
      "text/html": [
       "<div>\n",
       "<style scoped>\n",
       "    .dataframe tbody tr th:only-of-type {\n",
       "        vertical-align: middle;\n",
       "    }\n",
       "\n",
       "    .dataframe tbody tr th {\n",
       "        vertical-align: top;\n",
       "    }\n",
       "\n",
       "    .dataframe thead th {\n",
       "        text-align: right;\n",
       "    }\n",
       "</style>\n",
       "<table border=\"1\" class=\"dataframe\">\n",
       "  <thead>\n",
       "    <tr style=\"text-align: right;\">\n",
       "      <th></th>\n",
       "      <th>Pregnancies</th>\n",
       "      <th>Glucose</th>\n",
       "      <th>BloodPressure</th>\n",
       "      <th>SkinThickness</th>\n",
       "      <th>Insulin</th>\n",
       "      <th>BMI</th>\n",
       "      <th>DiabetesPedigreeFunction</th>\n",
       "      <th>Age</th>\n",
       "      <th>Outcome</th>\n",
       "    </tr>\n",
       "  </thead>\n",
       "  <tbody>\n",
       "    <tr>\n",
       "      <th>0</th>\n",
       "      <td>6</td>\n",
       "      <td>148</td>\n",
       "      <td>72</td>\n",
       "      <td>35</td>\n",
       "      <td>0</td>\n",
       "      <td>33.6</td>\n",
       "      <td>0.627</td>\n",
       "      <td>50</td>\n",
       "      <td>1</td>\n",
       "    </tr>\n",
       "    <tr>\n",
       "      <th>1</th>\n",
       "      <td>1</td>\n",
       "      <td>85</td>\n",
       "      <td>66</td>\n",
       "      <td>29</td>\n",
       "      <td>0</td>\n",
       "      <td>26.6</td>\n",
       "      <td>0.351</td>\n",
       "      <td>31</td>\n",
       "      <td>0</td>\n",
       "    </tr>\n",
       "    <tr>\n",
       "      <th>2</th>\n",
       "      <td>8</td>\n",
       "      <td>183</td>\n",
       "      <td>64</td>\n",
       "      <td>0</td>\n",
       "      <td>0</td>\n",
       "      <td>23.3</td>\n",
       "      <td>0.672</td>\n",
       "      <td>32</td>\n",
       "      <td>1</td>\n",
       "    </tr>\n",
       "    <tr>\n",
       "      <th>3</th>\n",
       "      <td>1</td>\n",
       "      <td>89</td>\n",
       "      <td>66</td>\n",
       "      <td>23</td>\n",
       "      <td>94</td>\n",
       "      <td>28.1</td>\n",
       "      <td>0.167</td>\n",
       "      <td>21</td>\n",
       "      <td>0</td>\n",
       "    </tr>\n",
       "    <tr>\n",
       "      <th>4</th>\n",
       "      <td>0</td>\n",
       "      <td>137</td>\n",
       "      <td>40</td>\n",
       "      <td>35</td>\n",
       "      <td>168</td>\n",
       "      <td>43.1</td>\n",
       "      <td>2.288</td>\n",
       "      <td>33</td>\n",
       "      <td>1</td>\n",
       "    </tr>\n",
       "  </tbody>\n",
       "</table>\n",
       "</div>"
      ],
      "text/plain": [
       "   Pregnancies  Glucose  BloodPressure  SkinThickness  Insulin   BMI  \\\n",
       "0            6      148             72             35        0  33.6   \n",
       "1            1       85             66             29        0  26.6   \n",
       "2            8      183             64              0        0  23.3   \n",
       "3            1       89             66             23       94  28.1   \n",
       "4            0      137             40             35      168  43.1   \n",
       "\n",
       "   DiabetesPedigreeFunction  Age  Outcome  \n",
       "0                     0.627   50        1  \n",
       "1                     0.351   31        0  \n",
       "2                     0.672   32        1  \n",
       "3                     0.167   21        0  \n",
       "4                     2.288   33        1  "
      ]
     },
     "execution_count": 206,
     "metadata": {},
     "output_type": "execute_result"
    }
   ],
   "source": [
    "df.head()"
   ]
  },
  {
   "cell_type": "code",
   "execution_count": 207,
   "id": "13c94549",
   "metadata": {},
   "outputs": [
    {
     "data": {
      "text/plain": [
       "Outcome\n",
       "0    500\n",
       "1    268\n",
       "Name: count, dtype: int64"
      ]
     },
     "execution_count": 207,
     "metadata": {},
     "output_type": "execute_result"
    }
   ],
   "source": [
    "df[\"Outcome\"].value_counts()   # 종속변수 확인"
   ]
  },
  {
   "cell_type": "markdown",
   "id": "d3b0c2fc",
   "metadata": {},
   "source": [
    "- 상대적으로 0인 데이터가 더 많음"
   ]
  },
  {
   "cell_type": "code",
   "execution_count": 208,
   "id": "257c2adf",
   "metadata": {},
   "outputs": [
    {
     "data": {
      "text/plain": [
       "(768, 9)"
      ]
     },
     "execution_count": 208,
     "metadata": {},
     "output_type": "execute_result"
    }
   ],
   "source": [
    "df.shape"
   ]
  },
  {
   "cell_type": "code",
   "execution_count": 209,
   "id": "5db15558",
   "metadata": {},
   "outputs": [
    {
     "data": {
      "text/plain": [
       "Pregnancies                   int64\n",
       "Glucose                       int64\n",
       "BloodPressure                 int64\n",
       "SkinThickness                 int64\n",
       "Insulin                       int64\n",
       "BMI                         float64\n",
       "DiabetesPedigreeFunction    float64\n",
       "Age                           int64\n",
       "Outcome                       int64\n",
       "dtype: object"
      ]
     },
     "execution_count": 209,
     "metadata": {},
     "output_type": "execute_result"
    }
   ],
   "source": [
    "df.dtypes"
   ]
  },
  {
   "cell_type": "code",
   "execution_count": 210,
   "id": "1fb66835",
   "metadata": {},
   "outputs": [
    {
     "name": "stdout",
     "output_type": "stream",
     "text": [
      "<class 'pandas.core.frame.DataFrame'>\n",
      "RangeIndex: 768 entries, 0 to 767\n",
      "Data columns (total 9 columns):\n",
      " #   Column                    Non-Null Count  Dtype  \n",
      "---  ------                    --------------  -----  \n",
      " 0   Pregnancies               768 non-null    int64  \n",
      " 1   Glucose                   768 non-null    int64  \n",
      " 2   BloodPressure             768 non-null    int64  \n",
      " 3   SkinThickness             768 non-null    int64  \n",
      " 4   Insulin                   768 non-null    int64  \n",
      " 5   BMI                       768 non-null    float64\n",
      " 6   DiabetesPedigreeFunction  768 non-null    float64\n",
      " 7   Age                       768 non-null    int64  \n",
      " 8   Outcome                   768 non-null    int64  \n",
      "dtypes: float64(2), int64(7)\n",
      "memory usage: 54.1 KB\n"
     ]
    }
   ],
   "source": [
    "df.info()"
   ]
  },
  {
   "cell_type": "markdown",
   "id": "1d61d071",
   "metadata": {},
   "source": [
    "- 결측치는 없고 피처의 타입은 모두 숫자형"
   ]
  },
  {
   "cell_type": "code",
   "execution_count": 237,
   "id": "e6af57b3",
   "metadata": {},
   "outputs": [],
   "source": [
    "# 평가지표 출력하는 함수 설정\n",
    "def get_clf_eval(y_test, pred = None, pred_proba = None):\n",
    "    confusion = confusion_matrix(y_test, pred)\n",
    "    accuracy = accuracy_score(y_test, pred)\n",
    "    precision = precision_score(y_test, pred)\n",
    "    recall = recall_score(y_test, pred)\n",
    "    f1 = f1_score(y_test, pred)\n",
    "    roc_auc = roc_auc_score(y_test, pred_proba)\n",
    "    \n",
    "    print('오차행렬')\n",
    "    print(confusion)\n",
    "    print(f\"정확도: {accuracy:.4f}, 정밀도: {precision:.4f}, 재현율: {recall:.4f}, F1: {f1:.4f}, AUC: {roc_auc:.4f}\")\n"
   ]
  },
  {
   "cell_type": "code",
   "execution_count": 246,
   "id": "2a1a2428",
   "metadata": {},
   "outputs": [],
   "source": [
    "# Precision-Recall Curve Plot 그리기\n",
    "def precision_recall_curve_plot(y_test = None, pred_proba_c1 = None):\n",
    "    # threshold ndarray와 threshold에 따른 정밀도, 재현율 ndarray 추출\n",
    "    precisions, recalls, thresholds = precision_recall_curve(y_test, pred_proba_c1)\n",
    "    \n",
    "    # x축을 threshold값으로, y축은 정밀도, 재현율 값으로 각각 시각화 수행\n",
    "    plt.figure(figsize = (8, 6))\n",
    "    threshold_boundary = thresholds.shape[0]\n",
    "    plt.plot(thresholds, precisions[:threshold_boundary], linestyle = \"--\", label = \"precision\") # 임계값이 어떨 때 정밀도가 어땠다\n",
    "    plt.plot(thresholds, recalls[:threshold_boundary], label = \"recall\") # 임계값이 어떨 때 재현율이 어땠다\n",
    "    \n",
    "    # threshold 값 x축의 단위를 0.1 단위로 변경\n",
    "    start, end = plt.xlim() \n",
    "    plt.xticks(np.round(np.arange(start, end, 0.1), 2)) \n",
    "    \n",
    "    # x축, y축 label 과 legend, grid 설정\n",
    "    plt.xlabel(\"Threshold value\")\n",
    "    plt.ylabel(\"Precision & Recall value\")\n",
    "    plt.legend()\n",
    "    plt.grid()\n",
    "    plt.show()"
   ]
  },
  {
   "cell_type": "markdown",
   "id": "4266f9c5",
   "metadata": {},
   "source": [
    "# baseline 모델"
   ]
  },
  {
   "cell_type": "code",
   "execution_count": 239,
   "id": "9fdf5b34",
   "metadata": {},
   "outputs": [],
   "source": [
    "x = df.iloc[:, :-1]\n",
    "y = df.iloc[:, -1]"
   ]
  },
  {
   "cell_type": "code",
   "execution_count": 240,
   "id": "a735f74c",
   "metadata": {},
   "outputs": [],
   "source": [
    "x_train, x_test, y_train, y_test = train_test_split(x, y, test_size = 0.2, \n",
    "                                                    random_state=11, stratify = y)"
   ]
  },
  {
   "cell_type": "code",
   "execution_count": 241,
   "id": "c0b2a479",
   "metadata": {},
   "outputs": [
    {
     "data": {
      "text/plain": [
       "((614, 8), (154, 8))"
      ]
     },
     "execution_count": 241,
     "metadata": {},
     "output_type": "execute_result"
    }
   ],
   "source": [
    "x_train.shape, x_test.shape"
   ]
  },
  {
   "cell_type": "code",
   "execution_count": 242,
   "id": "2bc82d0a",
   "metadata": {},
   "outputs": [],
   "source": [
    "# baseline 로지스틱 회귀\n",
    "lr_clf1 = LogisticRegression(random_state = 11)\n",
    "lr_clf1.fit(x_train, y_train)\n",
    "pred1 = lr_clf1.predict(x_test)\n",
    "pred_proba1 = lr_clf1.predict_proba(x_test)[:, 1]"
   ]
  },
  {
   "cell_type": "code",
   "execution_count": 243,
   "id": "9cb34485",
   "metadata": {},
   "outputs": [
    {
     "name": "stdout",
     "output_type": "stream",
     "text": [
      "오차행렬\n",
      "[[89 11]\n",
      " [24 30]]\n",
      "정확도: 0.7727, 정밀도: 0.7317, 재현율: 0.5556, F1: 0.6316, AUC: 0.8461\n"
     ]
    }
   ],
   "source": [
    "get_clf_eval(y_test, pred1, pred_proba1)"
   ]
  },
  {
   "cell_type": "code",
   "execution_count": 247,
   "id": "f6d8a57e",
   "metadata": {},
   "outputs": [
    {
     "data": {
      "image/png": "[encoded data removed]",
      "text/plain": [
       "<Figure size 800x600 with 1 Axes>"
      ]
     },
     "metadata": {},
     "output_type": "display_data"
    }
   ],
   "source": [
    "pred_proba_c1 = lr_clf1.predict_proba(x_test)[:, 1]\n",
    "precision_recall_curve_plot(y_test, pred_proba_c1)"
   ]
  },
  {
   "cell_type": "markdown",
   "id": "9e13fa9e",
   "metadata": {},
   "source": [
    "- 임곗값이 대략 0.44정도에서 정밀도와 재현율이 균형을 맞출 것으로 보임\n",
    "- 점수를 더 높이기 위해 전처리 수행"
   ]
  },
  {
   "cell_type": "code",
   "execution_count": 248,
   "id": "c87b2d55",
   "metadata": {},
   "outputs": [
    {
     "data": {
      "text/html": [
       "<div>\n",
       "<style scoped>\n",
       "    .dataframe tbody tr th:only-of-type {\n",
       "        vertical-align: middle;\n",
       "    }\n",
       "\n",
       "    .dataframe tbody tr th {\n",
       "        vertical-align: top;\n",
       "    }\n",
       "\n",
       "    .dataframe thead th {\n",
       "        text-align: right;\n",
       "    }\n",
       "</style>\n",
       "<table border=\"1\" class=\"dataframe\">\n",
       "  <thead>\n",
       "    <tr style=\"text-align: right;\">\n",
       "      <th></th>\n",
       "      <th>Pregnancies</th>\n",
       "      <th>Glucose</th>\n",
       "      <th>BloodPressure</th>\n",
       "      <th>SkinThickness</th>\n",
       "      <th>Insulin</th>\n",
       "      <th>BMI</th>\n",
       "      <th>DiabetesPedigreeFunction</th>\n",
       "      <th>Age</th>\n",
       "      <th>Outcome</th>\n",
       "    </tr>\n",
       "  </thead>\n",
       "  <tbody>\n",
       "    <tr>\n",
       "      <th>count</th>\n",
       "      <td>768.000000</td>\n",
       "      <td>768.000000</td>\n",
       "      <td>768.000000</td>\n",
       "      <td>768.000000</td>\n",
       "      <td>768.000000</td>\n",
       "      <td>768.000000</td>\n",
       "      <td>768.000000</td>\n",
       "      <td>768.000000</td>\n",
       "      <td>768.000000</td>\n",
       "    </tr>\n",
       "    <tr>\n",
       "      <th>mean</th>\n",
       "      <td>3.845052</td>\n",
       "      <td>120.894531</td>\n",
       "      <td>69.105469</td>\n",
       "      <td>20.536458</td>\n",
       "      <td>79.799479</td>\n",
       "      <td>31.992578</td>\n",
       "      <td>0.471876</td>\n",
       "      <td>33.240885</td>\n",
       "      <td>0.348958</td>\n",
       "    </tr>\n",
       "    <tr>\n",
       "      <th>std</th>\n",
       "      <td>3.369578</td>\n",
       "      <td>31.972618</td>\n",
       "      <td>19.355807</td>\n",
       "      <td>15.952218</td>\n",
       "      <td>115.244002</td>\n",
       "      <td>7.884160</td>\n",
       "      <td>0.331329</td>\n",
       "      <td>11.760232</td>\n",
       "      <td>0.476951</td>\n",
       "    </tr>\n",
       "    <tr>\n",
       "      <th>min</th>\n",
       "      <td>0.000000</td>\n",
       "      <td>0.000000</td>\n",
       "      <td>0.000000</td>\n",
       "      <td>0.000000</td>\n",
       "      <td>0.000000</td>\n",
       "      <td>0.000000</td>\n",
       "      <td>0.078000</td>\n",
       "      <td>21.000000</td>\n",
       "      <td>0.000000</td>\n",
       "    </tr>\n",
       "    <tr>\n",
       "      <th>25%</th>\n",
       "      <td>1.000000</td>\n",
       "      <td>99.000000</td>\n",
       "      <td>62.000000</td>\n",
       "      <td>0.000000</td>\n",
       "      <td>0.000000</td>\n",
       "      <td>27.300000</td>\n",
       "      <td>0.243750</td>\n",
       "      <td>24.000000</td>\n",
       "      <td>0.000000</td>\n",
       "    </tr>\n",
       "    <tr>\n",
       "      <th>50%</th>\n",
       "      <td>3.000000</td>\n",
       "      <td>117.000000</td>\n",
       "      <td>72.000000</td>\n",
       "      <td>23.000000</td>\n",
       "      <td>30.500000</td>\n",
       "      <td>32.000000</td>\n",
       "      <td>0.372500</td>\n",
       "      <td>29.000000</td>\n",
       "      <td>0.000000</td>\n",
       "    </tr>\n",
       "    <tr>\n",
       "      <th>75%</th>\n",
       "      <td>6.000000</td>\n",
       "      <td>140.250000</td>\n",
       "      <td>80.000000</td>\n",
       "      <td>32.000000</td>\n",
       "      <td>127.250000</td>\n",
       "      <td>36.600000</td>\n",
       "      <td>0.626250</td>\n",
       "      <td>41.000000</td>\n",
       "      <td>1.000000</td>\n",
       "    </tr>\n",
       "    <tr>\n",
       "      <th>max</th>\n",
       "      <td>17.000000</td>\n",
       "      <td>199.000000</td>\n",
       "      <td>122.000000</td>\n",
       "      <td>99.000000</td>\n",
       "      <td>846.000000</td>\n",
       "      <td>67.100000</td>\n",
       "      <td>2.420000</td>\n",
       "      <td>81.000000</td>\n",
       "      <td>1.000000</td>\n",
       "    </tr>\n",
       "  </tbody>\n",
       "</table>\n",
       "</div>"
      ],
      "text/plain": [
       "       Pregnancies     Glucose  BloodPressure  SkinThickness     Insulin  \\\n",
       "count   768.000000  768.000000     768.000000     768.000000  768.000000   \n",
       "mean      3.845052  120.894531      69.105469      20.536458   79.799479   \n",
       "std       3.369578   31.972618      19.355807      15.952218  115.244002   \n",
       "min       0.000000    0.000000       0.000000       0.000000    0.000000   \n",
       "25%       1.000000   99.000000      62.000000       0.000000    0.000000   \n",
       "50%       3.000000  117.000000      72.000000      23.000000   30.500000   \n",
       "75%       6.000000  140.250000      80.000000      32.000000  127.250000   \n",
       "max      17.000000  199.000000     122.000000      99.000000  846.000000   \n",
       "\n",
       "              BMI  DiabetesPedigreeFunction         Age     Outcome  \n",
       "count  768.000000                768.000000  768.000000  768.000000  \n",
       "mean    31.992578                  0.471876   33.240885    0.348958  \n",
       "std      7.884160                  0.331329   11.760232    0.476951  \n",
       "min      0.000000                  0.078000   21.000000    0.000000  \n",
       "25%     27.300000                  0.243750   24.000000    0.000000  \n",
       "50%     32.000000                  0.372500   29.000000    0.000000  \n",
       "75%     36.600000                  0.626250   41.000000    1.000000  \n",
       "max     67.100000                  2.420000   81.000000    1.000000  "
      ]
     },
     "execution_count": 248,
     "metadata": {},
     "output_type": "execute_result"
    }
   ],
   "source": [
    "df.describe()"
   ]
  },
  {
   "cell_type": "markdown",
   "id": "6393f4a6",
   "metadata": {},
   "source": [
    "- 데이터 값의 최솟값이 0인 피처가 존재\n",
    "    - 포도당, 혈압, 피하지방, 인슐린, BMI가 0인 것은 납득하기 어려움"
   ]
  },
  {
   "cell_type": "code",
   "execution_count": 249,
   "id": "f5b3ceca",
   "metadata": {},
   "outputs": [
    {
     "data": {
      "image/png": "[encoded data removed]",
      "text/plain": [
       "<Figure size 800x550 with 1 Axes>"
      ]
     },
     "metadata": {},
     "output_type": "display_data"
    }
   ],
   "source": [
    "plt.hist(df[\"Glucose\"], bins = 100)\n",
    "plt.show()"
   ]
  },
  {
   "cell_type": "markdown",
   "id": "fd07eb5e",
   "metadata": {},
   "source": [
    "- 포도당이 0인 데이터가 5개 존재"
   ]
  },
  {
   "cell_type": "code",
   "execution_count": 250,
   "id": "0fcb1ff6",
   "metadata": {},
   "outputs": [],
   "source": [
    "# 0값을 검사할 피처명 리스트\n",
    "zero_features = [\"Glucose\", \"BloodPressure\", \"SkinThickness\", \"Insulin\", \"BMI\"]"
   ]
  },
  {
   "cell_type": "code",
   "execution_count": 251,
   "id": "d8a629aa",
   "metadata": {},
   "outputs": [],
   "source": [
    "# 전체 데이터 건수\n",
    "total_count = df['Glucose'].count()"
   ]
  },
  {
   "cell_type": "code",
   "execution_count": 252,
   "id": "2351c7ab",
   "metadata": {},
   "outputs": [
    {
     "name": "stdout",
     "output_type": "stream",
     "text": [
      "Glucose 0 건수는 5, 비율은 0.65\n",
      "BloodPressure 0 건수는 35, 비율은 4.56\n",
      "SkinThickness 0 건수는 227, 비율은 29.56\n",
      "Insulin 0 건수는 374, 비율은 48.70\n",
      "BMI 0 건수는 11, 비율은 1.43\n"
     ]
    }
   ],
   "source": [
    "# 피처별로 반복하면서 데이터 값이 0인 데이터 건수 추출하고, 비율 계산\n",
    "for feature in zero_features:\n",
    "    zero_count = df[df[feature] == 0][feature].count()\n",
    "    print(f\"{feature} 0 건수는 {zero_count}, 비율은 {100 * zero_count / total_count:.2f}\")"
   ]
  },
  {
   "cell_type": "markdown",
   "id": "7c5c726f",
   "metadata": {},
   "source": [
    "- SkinThickness와 Insulin 의 0값 비율이 꽤 높은 편이어서 데이터 일괄 삭제 시 오히려 모델 학습에 악영향을 줄 수 있음\n",
    "    - 이상치를 평균값으로 대체"
   ]
  },
  {
   "cell_type": "code",
   "execution_count": 253,
   "id": "f5c43558",
   "metadata": {},
   "outputs": [
    {
     "data": {
      "text/plain": [
       "Glucose          120.894531\n",
       "BloodPressure     69.105469\n",
       "SkinThickness     20.536458\n",
       "Insulin           79.799479\n",
       "BMI               31.992578\n",
       "dtype: float64"
      ]
     },
     "execution_count": 253,
     "metadata": {},
     "output_type": "execute_result"
    }
   ],
   "source": [
    "# zero_features 리스트 내부에 저장된 개별 피처들에 대해서 0값을 평균값으로 대체\n",
    "mean_zero_features = df[zero_features].mean()\n",
    "mean_zero_features"
   ]
  },
  {
   "cell_type": "code",
   "execution_count": 254,
   "id": "7a0cb323",
   "metadata": {},
   "outputs": [],
   "source": [
    "df[zero_features] = df[zero_features].replace(0, mean_zero_features)"
   ]
  },
  {
   "cell_type": "code",
   "execution_count": 255,
   "id": "e88714e6",
   "metadata": {},
   "outputs": [
    {
     "data": {
      "text/html": [
       "<div>\n",
       "<style scoped>\n",
       "    .dataframe tbody tr th:only-of-type {\n",
       "        vertical-align: middle;\n",
       "    }\n",
       "\n",
       "    .dataframe tbody tr th {\n",
       "        vertical-align: top;\n",
       "    }\n",
       "\n",
       "    .dataframe thead th {\n",
       "        text-align: right;\n",
       "    }\n",
       "</style>\n",
       "<table border=\"1\" class=\"dataframe\">\n",
       "  <thead>\n",
       "    <tr style=\"text-align: right;\">\n",
       "      <th></th>\n",
       "      <th>Pregnancies</th>\n",
       "      <th>Glucose</th>\n",
       "      <th>BloodPressure</th>\n",
       "      <th>SkinThickness</th>\n",
       "      <th>Insulin</th>\n",
       "      <th>BMI</th>\n",
       "      <th>DiabetesPedigreeFunction</th>\n",
       "      <th>Age</th>\n",
       "      <th>Outcome</th>\n",
       "    </tr>\n",
       "  </thead>\n",
       "  <tbody>\n",
       "    <tr>\n",
       "      <th>count</th>\n",
       "      <td>768.000000</td>\n",
       "      <td>768.000000</td>\n",
       "      <td>768.000000</td>\n",
       "      <td>768.000000</td>\n",
       "      <td>768.000000</td>\n",
       "      <td>768.000000</td>\n",
       "      <td>768.000000</td>\n",
       "      <td>768.000000</td>\n",
       "      <td>768.000000</td>\n",
       "    </tr>\n",
       "    <tr>\n",
       "      <th>mean</th>\n",
       "      <td>3.845052</td>\n",
       "      <td>121.681605</td>\n",
       "      <td>72.254807</td>\n",
       "      <td>26.606479</td>\n",
       "      <td>118.660163</td>\n",
       "      <td>32.450805</td>\n",
       "      <td>0.471876</td>\n",
       "      <td>33.240885</td>\n",
       "      <td>0.348958</td>\n",
       "    </tr>\n",
       "    <tr>\n",
       "      <th>std</th>\n",
       "      <td>3.369578</td>\n",
       "      <td>30.436016</td>\n",
       "      <td>12.115932</td>\n",
       "      <td>9.631241</td>\n",
       "      <td>93.080358</td>\n",
       "      <td>6.875374</td>\n",
       "      <td>0.331329</td>\n",
       "      <td>11.760232</td>\n",
       "      <td>0.476951</td>\n",
       "    </tr>\n",
       "    <tr>\n",
       "      <th>min</th>\n",
       "      <td>0.000000</td>\n",
       "      <td>44.000000</td>\n",
       "      <td>24.000000</td>\n",
       "      <td>7.000000</td>\n",
       "      <td>14.000000</td>\n",
       "      <td>18.200000</td>\n",
       "      <td>0.078000</td>\n",
       "      <td>21.000000</td>\n",
       "      <td>0.000000</td>\n",
       "    </tr>\n",
       "    <tr>\n",
       "      <th>25%</th>\n",
       "      <td>1.000000</td>\n",
       "      <td>99.750000</td>\n",
       "      <td>64.000000</td>\n",
       "      <td>20.536458</td>\n",
       "      <td>79.799479</td>\n",
       "      <td>27.500000</td>\n",
       "      <td>0.243750</td>\n",
       "      <td>24.000000</td>\n",
       "      <td>0.000000</td>\n",
       "    </tr>\n",
       "    <tr>\n",
       "      <th>50%</th>\n",
       "      <td>3.000000</td>\n",
       "      <td>117.000000</td>\n",
       "      <td>72.000000</td>\n",
       "      <td>23.000000</td>\n",
       "      <td>79.799479</td>\n",
       "      <td>32.000000</td>\n",
       "      <td>0.372500</td>\n",
       "      <td>29.000000</td>\n",
       "      <td>0.000000</td>\n",
       "    </tr>\n",
       "    <tr>\n",
       "      <th>75%</th>\n",
       "      <td>6.000000</td>\n",
       "      <td>140.250000</td>\n",
       "      <td>80.000000</td>\n",
       "      <td>32.000000</td>\n",
       "      <td>127.250000</td>\n",
       "      <td>36.600000</td>\n",
       "      <td>0.626250</td>\n",
       "      <td>41.000000</td>\n",
       "      <td>1.000000</td>\n",
       "    </tr>\n",
       "    <tr>\n",
       "      <th>max</th>\n",
       "      <td>17.000000</td>\n",
       "      <td>199.000000</td>\n",
       "      <td>122.000000</td>\n",
       "      <td>99.000000</td>\n",
       "      <td>846.000000</td>\n",
       "      <td>67.100000</td>\n",
       "      <td>2.420000</td>\n",
       "      <td>81.000000</td>\n",
       "      <td>1.000000</td>\n",
       "    </tr>\n",
       "  </tbody>\n",
       "</table>\n",
       "</div>"
      ],
      "text/plain": [
       "       Pregnancies     Glucose  BloodPressure  SkinThickness     Insulin  \\\n",
       "count   768.000000  768.000000     768.000000     768.000000  768.000000   \n",
       "mean      3.845052  121.681605      72.254807      26.606479  118.660163   \n",
       "std       3.369578   30.436016      12.115932       9.631241   93.080358   \n",
       "min       0.000000   44.000000      24.000000       7.000000   14.000000   \n",
       "25%       1.000000   99.750000      64.000000      20.536458   79.799479   \n",
       "50%       3.000000  117.000000      72.000000      23.000000   79.799479   \n",
       "75%       6.000000  140.250000      80.000000      32.000000  127.250000   \n",
       "max      17.000000  199.000000     122.000000      99.000000  846.000000   \n",
       "\n",
       "              BMI  DiabetesPedigreeFunction         Age     Outcome  \n",
       "count  768.000000                768.000000  768.000000  768.000000  \n",
       "mean    32.450805                  0.471876   33.240885    0.348958  \n",
       "std      6.875374                  0.331329   11.760232    0.476951  \n",
       "min     18.200000                  0.078000   21.000000    0.000000  \n",
       "25%     27.500000                  0.243750   24.000000    0.000000  \n",
       "50%     32.000000                  0.372500   29.000000    0.000000  \n",
       "75%     36.600000                  0.626250   41.000000    1.000000  \n",
       "max     67.100000                  2.420000   81.000000    1.000000  "
      ]
     },
     "execution_count": 255,
     "metadata": {},
     "output_type": "execute_result"
    }
   ],
   "source": [
    "df.describe()"
   ]
  },
  {
   "cell_type": "markdown",
   "id": "1d6f2efa",
   "metadata": {},
   "source": [
    "# 모델 학습 테스트 "
   ]
  },
  {
   "cell_type": "code",
   "execution_count": 256,
   "id": "66b31aa5",
   "metadata": {},
   "outputs": [],
   "source": [
    "x = df.iloc[:, :-1]\n",
    "y = df.iloc[:, -1]"
   ]
  },
  {
   "cell_type": "code",
   "execution_count": 257,
   "id": "b75ad397",
   "metadata": {},
   "outputs": [],
   "source": [
    "x_train, x_test, y_train, y_test = train_test_split(x, y, test_size = 0.2,\n",
    "                                                   random_state = 11, stratify = y)"
   ]
  },
  {
   "cell_type": "code",
   "execution_count": 258,
   "id": "477c3743",
   "metadata": {},
   "outputs": [],
   "source": [
    "# StandardScaler 를 통해 스케일링 적용\n",
    "sclaer = StandardScaler()\n",
    "scaled_train = scaler.fit_transform(x_train)\n",
    "scaled_test = scaler.transform(x_test)"
   ]
  },
  {
   "cell_type": "code",
   "execution_count": 263,
   "id": "977864e0",
   "metadata": {},
   "outputs": [],
   "source": [
    "# 로지스틱 회귀 학습, 예측, 평가\n",
    "lr_clf2 = LogisticRegression(random_state = 11)\n",
    "lr_clf2.fit(scaled_train, y_train)\n",
    "pred2 = lr_clf2.predict(scaled_test)\n",
    "pred_proba2 = lr_clf2.predict_proba(scaled_test)[:, 1]"
   ]
  },
  {
   "cell_type": "code",
   "execution_count": 264,
   "id": "9aa23720",
   "metadata": {},
   "outputs": [
    {
     "name": "stdout",
     "output_type": "stream",
     "text": [
      "오차행렬\n",
      "[[88 12]\n",
      " [25 29]]\n",
      "정확도: 0.7597, 정밀도: 0.7073, 재현율: 0.5370, F1: 0.6105, AUC: 0.8461\n"
     ]
    }
   ],
   "source": [
    "get_clf_eval(y_test, pred2, pred_proba2)"
   ]
  },
  {
   "cell_type": "code",
   "execution_count": 266,
   "id": "2f8f73f4",
   "metadata": {},
   "outputs": [
    {
     "data": {
      "text/html": [
       "<style>#sk-container-id-3 {color: black;background-color: white;}#sk-container-id-3 pre{padding: 0;}#sk-container-id-3 div.sk-toggleable {background-color: white;}#sk-container-id-3 label.sk-toggleable__label {cursor: pointer;display: block;width: 100%;margin-bottom: 0;padding: 0.3em;box-sizing: border-box;text-align: center;}#sk-container-id-3 label.sk-toggleable__label-arrow:before {content: \"▸\";float: left;margin-right: 0.25em;color: #696969;}#sk-container-id-3 label.sk-toggleable__label-arrow:hover:before {color: black;}#sk-container-id-3 div.sk-estimator:hover label.sk-toggleable__label-arrow:before {color: black;}#sk-container-id-3 div.sk-toggleable__content {max-height: 0;max-width: 0;overflow: hidden;text-align: left;background-color: #f0f8ff;}#sk-container-id-3 div.sk-toggleable__content pre {margin: 0.2em;color: black;border-radius: 0.25em;background-color: #f0f8ff;}#sk-container-id-3 input.sk-toggleable__control:checked~div.sk-toggleable__content {max-height: 200px;max-width: 100%;overflow: auto;}#sk-container-id-3 input.sk-toggleable__control:checked~label.sk-toggleable__label-arrow:before {content: \"▾\";}#sk-container-id-3 div.sk-estimator input.sk-toggleable__control:checked~label.sk-toggleable__label {background-color: #d4ebff;}#sk-container-id-3 div.sk-label input.sk-toggleable__control:checked~label.sk-toggleable__label {background-color: #d4ebff;}#sk-container-id-3 input.sk-hidden--visually {border: 0;clip: rect(1px 1px 1px 1px);clip: rect(1px, 1px, 1px, 1px);height: 1px;margin: -1px;overflow: hidden;padding: 0;position: absolute;width: 1px;}#sk-container-id-3 div.sk-estimator {font-family: monospace;background-color: #f0f8ff;border: 1px dotted black;border-radius: 0.25em;box-sizing: border-box;margin-bottom: 0.5em;}#sk-container-id-3 div.sk-estimator:hover {background-color: #d4ebff;}#sk-container-id-3 div.sk-parallel-item::after {content: \"\";width: 100%;border-bottom: 1px solid gray;flex-grow: 1;}#sk-container-id-3 div.sk-label:hover label.sk-toggleable__label {background-color: #d4ebff;}#sk-container-id-3 div.sk-serial::before {content: \"\";position: absolute;border-left: 1px solid gray;box-sizing: border-box;top: 0;bottom: 0;left: 50%;z-index: 0;}#sk-container-id-3 div.sk-serial {display: flex;flex-direction: column;align-items: center;background-color: white;padding-right: 0.2em;padding-left: 0.2em;position: relative;}#sk-container-id-3 div.sk-item {position: relative;z-index: 1;}#sk-container-id-3 div.sk-parallel {display: flex;align-items: stretch;justify-content: center;background-color: white;position: relative;}#sk-container-id-3 div.sk-item::before, #sk-container-id-3 div.sk-parallel-item::before {content: \"\";position: absolute;border-left: 1px solid gray;box-sizing: border-box;top: 0;bottom: 0;left: 50%;z-index: -1;}#sk-container-id-3 div.sk-parallel-item {display: flex;flex-direction: column;z-index: 1;position: relative;background-color: white;}#sk-container-id-3 div.sk-parallel-item:first-child::after {align-self: flex-end;width: 50%;}#sk-container-id-3 div.sk-parallel-item:last-child::after {align-self: flex-start;width: 50%;}#sk-container-id-3 div.sk-parallel-item:only-child::after {width: 0;}#sk-container-id-3 div.sk-dashed-wrapped {border: 1px dashed gray;margin: 0 0.4em 0.5em 0.4em;box-sizing: border-box;padding-bottom: 0.4em;background-color: white;}#sk-container-id-3 div.sk-label label {font-family: monospace;font-weight: bold;display: inline-block;line-height: 1.2em;}#sk-container-id-3 div.sk-label-container {text-align: center;}#sk-container-id-3 div.sk-container {/* jupyter's `normalize.less` sets `[hidden] { display: none; }` but bootstrap.min.css set `[hidden] { display: none !important; }` so we also need the `!important` here to be able to override the default hidden behavior on the sphinx rendered scikit-learn.org. See: https://github.com/scikit-learn/scikit-learn/issues/21755 */display: inline-block !important;position: relative;}#sk-container-id-3 div.sk-text-repr-fallback {display: none;}</style><div id=\"sk-container-id-3\" class=\"sk-top-container\"><div class=\"sk-text-repr-fallback\"><pre>GridSearchCV(cv=StratifiedKFold(n_splits=5, random_state=11, shuffle=True),\n",
       "             estimator=LogisticRegression(random_state=11), n_jobs=-1,\n",
       "             param_grid={&#x27;C&#x27;: [0.01, 0.1, 1, 10, 100],\n",
       "                         &#x27;penalty&#x27;: [&#x27;l1&#x27;, &#x27;l2&#x27;, &#x27;elasticnet&#x27;, None],\n",
       "                         &#x27;solver&#x27;: [&#x27;lbfgs&#x27;, &#x27;liblinear&#x27;, &#x27;mewton-cg&#x27;,\n",
       "                                    &#x27;newton-cholesky&#x27;, &#x27;sag&#x27;, &#x27;saga&#x27;]},\n",
       "             scoring=&#x27;roc_auc&#x27;)</pre><b>In a Jupyter environment, please rerun this cell to show the HTML representation or trust the notebook. <br />On GitHub, the HTML representation is unable to render, please try loading this page with nbviewer.org.</b></div><div class=\"sk-container\" hidden><div class=\"sk-item sk-dashed-wrapped\"><div class=\"sk-label-container\"><div class=\"sk-label sk-toggleable\"><input class=\"sk-toggleable__control sk-hidden--visually\" id=\"sk-estimator-id-3\" type=\"checkbox\" ><label for=\"sk-estimator-id-3\" class=\"sk-toggleable__label sk-toggleable__label-arrow\">GridSearchCV</label><div class=\"sk-toggleable__content\"><pre>GridSearchCV(cv=StratifiedKFold(n_splits=5, random_state=11, shuffle=True),\n",
       "             estimator=LogisticRegression(random_state=11), n_jobs=-1,\n",
       "             param_grid={&#x27;C&#x27;: [0.01, 0.1, 1, 10, 100],\n",
       "                         &#x27;penalty&#x27;: [&#x27;l1&#x27;, &#x27;l2&#x27;, &#x27;elasticnet&#x27;, None],\n",
       "                         &#x27;solver&#x27;: [&#x27;lbfgs&#x27;, &#x27;liblinear&#x27;, &#x27;mewton-cg&#x27;,\n",
       "                                    &#x27;newton-cholesky&#x27;, &#x27;sag&#x27;, &#x27;saga&#x27;]},\n",
       "             scoring=&#x27;roc_auc&#x27;)</pre></div></div></div><div class=\"sk-parallel\"><div class=\"sk-parallel-item\"><div class=\"sk-item\"><div class=\"sk-label-container\"><div class=\"sk-label sk-toggleable\"><input class=\"sk-toggleable__control sk-hidden--visually\" id=\"sk-estimator-id-4\" type=\"checkbox\" ><label for=\"sk-estimator-id-4\" class=\"sk-toggleable__label sk-toggleable__label-arrow\">estimator: LogisticRegression</label><div class=\"sk-toggleable__content\"><pre>LogisticRegression(random_state=11)</pre></div></div></div><div class=\"sk-serial\"><div class=\"sk-item\"><div class=\"sk-estimator sk-toggleable\"><input class=\"sk-toggleable__control sk-hidden--visually\" id=\"sk-estimator-id-5\" type=\"checkbox\" ><label for=\"sk-estimator-id-5\" class=\"sk-toggleable__label sk-toggleable__label-arrow\">LogisticRegression</label><div class=\"sk-toggleable__content\"><pre>LogisticRegression(random_state=11)</pre></div></div></div></div></div></div></div></div></div></div>"
      ],
      "text/plain": [
       "GridSearchCV(cv=StratifiedKFold(n_splits=5, random_state=11, shuffle=True),\n",
       "             estimator=LogisticRegression(random_state=11), n_jobs=-1,\n",
       "             param_grid={'C': [0.01, 0.1, 1, 10, 100],\n",
       "                         'penalty': ['l1', 'l2', 'elasticnet', None],\n",
       "                         'solver': ['lbfgs', 'liblinear', 'mewton-cg',\n",
       "                                    'newton-cholesky', 'sag', 'saga']},\n",
       "             scoring='roc_auc')"
      ]
     },
     "execution_count": 266,
     "metadata": {},
     "output_type": "execute_result"
    }
   ],
   "source": [
    "logi = LogisticRegression(random_state = 11)\n",
    "\n",
    "param = {\"penalty\" : [\"l1\", \"l2\", \"elasticnet\", None],\n",
    "        \"C\" : [0.01, 0.1, 1, 10, 100],\n",
    "        \"solver\" : [\"lbfgs\", \"liblinear\", \"mewton-cg\", \"newton-cholesky\", \"sag\", \"saga\"]}\n",
    "\n",
    "splitter = StratifiedKFold(n_splits = 5, shuffle = True, random_state = 11)\n",
    "\n",
    "gs = GridSearchCV(logi, param, scoring = \"roc_auc\", cv = splitter, n_jobs = -1)\n",
    "gs.fit(scaled_train, y_train)"
   ]
  },
  {
   "cell_type": "code",
   "execution_count": 267,
   "id": "c96e9a60",
   "metadata": {},
   "outputs": [
    {
     "data": {
      "text/plain": [
       "{'C': 0.1, 'penalty': 'l1', 'solver': 'liblinear'}"
      ]
     },
     "execution_count": 267,
     "metadata": {},
     "output_type": "execute_result"
    }
   ],
   "source": [
    "gs.best_params_"
   ]
  },
  {
   "cell_type": "code",
   "execution_count": 268,
   "id": "a80bb5b8",
   "metadata": {},
   "outputs": [],
   "source": [
    "lr_clf3 = gs.best_estimator_"
   ]
  },
  {
   "cell_type": "code",
   "execution_count": 269,
   "id": "4f3666d3",
   "metadata": {},
   "outputs": [],
   "source": [
    "pred3 = lr_clf3.predict(scaled_test)\n",
    "pred_proba3 = lr_clf3.predict_proba(scaled_test)[:, 1]"
   ]
  },
  {
   "cell_type": "code",
   "execution_count": 270,
   "id": "cd099d50",
   "metadata": {},
   "outputs": [
    {
     "name": "stdout",
     "output_type": "stream",
     "text": [
      "오차행렬\n",
      "[[88 12]\n",
      " [23 31]]\n",
      "정확도: 0.7727, 정밀도: 0.7209, 재현율: 0.5741, F1: 0.6392, AUC: 0.8400\n"
     ]
    }
   ],
   "source": [
    "get_clf_eval(y_test, pred3, pred_proba3)"
   ]
  },
  {
   "cell_type": "markdown",
   "id": "b1a3a84c",
   "metadata": {},
   "source": [
    "# 모델 성능 평가"
   ]
  },
  {
   "cell_type": "code",
   "execution_count": 271,
   "id": "ad28794b",
   "metadata": {},
   "outputs": [
    {
     "data": {
      "image/png": "[encoded data removed]",
      "text/plain": [
       "<Figure size 1000x1000 with 1 Axes>"
      ]
     },
     "metadata": {},
     "output_type": "display_data"
    }
   ],
   "source": [
    "fpr1, tpr1, threshold1 = roc_curve(y_test, pred_proba1)\n",
    "fpr2, tpr2, threshold2 = roc_curve(y_test, pred_proba2)\n",
    "fpr3, tpr3, threshold3 = roc_curve(y_test, pred_proba3)\n",
    "\n",
    "plt.figure(figsize = (10, 10))\n",
    "\n",
    "plt.plot([0, 1], [0, 1], label = \"random\")\n",
    "plt.plot(fpr1, tpr1, label = \"baseline\")\n",
    "plt.plot(fpr2, tpr2, label = \"standard\")\n",
    "plt.plot(fpr3, tpr3, label = \"hyperparam\")\n",
    "\n",
    "plt.xlabel(\"FPR\")\n",
    "plt.ylabel(\"TPR\")\n",
    "plt.xlim(0, 1)\n",
    "plt.ylim(0, 1)\n",
    "plt.legend()\n",
    "plt.show()"
   ]
  },
  {
   "cell_type": "code",
   "execution_count": 272,
   "id": "c57dbe0a",
   "metadata": {},
   "outputs": [],
   "source": [
    "def get_eval_by_threshold(y_test, pred_proba_c1, thresholds):\n",
    "    # thresholds 리스트 내의 값을 차례로 반복하면서 검증\n",
    "    for custom_threshold in thresholds:\n",
    "        binarizer = Binarizer(threshold = custom_threshold)\n",
    "        binarizer.fit(pred_proba_c1)\n",
    "        custom_predict = binarizer.transform(pred_proba_c1)\n",
    "        print(\"임곗값:\", custom_threshold)\n",
    "        get_clf_eval(y_test, custom_predict, pred_proba_c1)\n",
    "        print(\"-\" * 80)"
   ]
  },
  {
   "cell_type": "code",
   "execution_count": 273,
   "id": "16a2f880",
   "metadata": {},
   "outputs": [],
   "source": [
    "thresholds = [0.3, 0.33, 0.36, 0.39, 0.42, 0.45, 0.48, 0.5]"
   ]
  },
  {
   "cell_type": "code",
   "execution_count": 274,
   "id": "186fea1d",
   "metadata": {},
   "outputs": [
    {
     "name": "stdout",
     "output_type": "stream",
     "text": [
      "임곗값: 0.3\n",
      "오차행렬\n",
      "[[72 28]\n",
      " [13 41]]\n",
      "정확도: 0.7338, 정밀도: 0.5942, 재현율: 0.7593, F1: 0.6667, AUC: 0.8461\n",
      "--------------------------------------------------------------------------------\n",
      "임곗값: 0.33\n",
      "오차행렬\n",
      "[[78 22]\n",
      " [14 40]]\n",
      "정확도: 0.7662, 정밀도: 0.6452, 재현율: 0.7407, F1: 0.6897, AUC: 0.8461\n",
      "--------------------------------------------------------------------------------\n",
      "임곗값: 0.36\n",
      "오차행렬\n",
      "[[80 20]\n",
      " [15 39]]\n",
      "정확도: 0.7727, 정밀도: 0.6610, 재현율: 0.7222, F1: 0.6903, AUC: 0.8461\n",
      "--------------------------------------------------------------------------------\n",
      "임곗값: 0.39\n",
      "오차행렬\n",
      "[[82 18]\n",
      " [15 39]]\n",
      "정확도: 0.7857, 정밀도: 0.6842, 재현율: 0.7222, F1: 0.7027, AUC: 0.8461\n",
      "--------------------------------------------------------------------------------\n",
      "임곗값: 0.42\n",
      "오차행렬\n",
      "[[82 18]\n",
      " [17 37]]\n",
      "정확도: 0.7727, 정밀도: 0.6727, 재현율: 0.6852, F1: 0.6789, AUC: 0.8461\n",
      "--------------------------------------------------------------------------------\n",
      "임곗값: 0.45\n",
      "오차행렬\n",
      "[[85 15]\n",
      " [21 33]]\n",
      "정확도: 0.7662, 정밀도: 0.6875, 재현율: 0.6111, F1: 0.6471, AUC: 0.8461\n",
      "--------------------------------------------------------------------------------\n",
      "임곗값: 0.48\n",
      "오차행렬\n",
      "[[87 13]\n",
      " [23 31]]\n",
      "정확도: 0.7662, 정밀도: 0.7045, 재현율: 0.5741, F1: 0.6327, AUC: 0.8461\n",
      "--------------------------------------------------------------------------------\n",
      "임곗값: 0.5\n",
      "오차행렬\n",
      "[[89 11]\n",
      " [24 30]]\n",
      "정확도: 0.7727, 정밀도: 0.7317, 재현율: 0.5556, F1: 0.6316, AUC: 0.8461\n",
      "--------------------------------------------------------------------------------\n"
     ]
    }
   ],
   "source": [
    "get_eval_by_threshold(y_test, pred_proba1.reshape(-1, 1), thresholds)"
   ]
  },
  {
   "cell_type": "markdown",
   "id": "ab726a9d",
   "metadata": {},
   "source": [
    "- AUC 는 모두 같게 나옴\n",
    "- F1 의 값은 임곗값에 따라 달라짐 \n",
    "    - 임곗값 0.39일때 F1 가장 높음 \n",
    "    - (당뇨병 잘 예측하는 임곗값 = 0.39)"
   ]
  },
  {
   "cell_type": "code",
   "execution_count": 275,
   "id": "b8921446",
   "metadata": {},
   "outputs": [],
   "source": [
    "# 임곗값을 0.39로 설정한 Binarizer 생성\n",
    "binarizer = Binarizer(threshold = 0.39)\n",
    "\n",
    "pred_th = binarizer.fit_transform(pred_proba1.reshape(-1, 1))"
   ]
  },
  {
   "cell_type": "code",
   "execution_count": 276,
   "id": "ef617cf5",
   "metadata": {},
   "outputs": [
    {
     "data": {
      "text/plain": [
       "array([0.99604925, 0.19416211, 0.79259996, 0.78994986, 0.10986687,\n",
       "       0.48087545, 0.05004014, 0.92185598, 0.87704051, 0.63246027,\n",
       "       0.04884672, 0.77931928, 0.30657548, 0.22665392, 0.23235573,\n",
       "       0.7643649 , 0.71811467, 0.87142197, 0.49533841, 0.36509782,\n",
       "       0.08643949, 0.04381712, 0.30396479, 0.15993597, 0.26565376,\n",
       "       0.21141069, 0.44454349, 0.20610373, 0.32798713, 0.08382221,\n",
       "       0.42411982, 0.93569261, 0.10455798, 0.31319175, 0.63750855,\n",
       "       0.41681287, 0.25651117, 0.47584797, 0.03405101, 0.04434505,\n",
       "       0.08739576, 0.4307863 , 0.83274028, 0.26891651, 0.2273128 ,\n",
       "       0.79091367, 0.09086233, 0.47379521, 0.09064118, 0.01208751,\n",
       "       0.0748883 , 0.11495507, 0.00202779, 0.16882629, 0.0089588 ,\n",
       "       0.20180408, 0.15660363, 0.09881937, 0.70205872, 0.04796871,\n",
       "       0.55441085, 0.44585819, 0.03668752, 0.9300766 , 0.06331465,\n",
       "       0.21120614, 0.09896441, 0.1081902 , 0.40221548, 0.11654687,\n",
       "       0.47749592, 0.18821778, 0.3016049 , 0.92760023, 0.08683889,\n",
       "       0.50799993, 0.55681103, 0.73908971, 0.12787134, 0.9426965 ,\n",
       "       0.11244114, 0.19082123, 0.04326166, 0.07327179, 0.77267779,\n",
       "       0.33169796, 0.1408901 , 0.19723967, 0.75910938, 0.35386128,\n",
       "       0.19318033, 0.10385605, 0.36592068, 0.25899196, 0.67345853,\n",
       "       0.53608271, 0.43882193, 0.57016007, 0.6174204 , 0.0701632 ,\n",
       "       0.04539107, 0.28005482, 0.20757118, 0.05558862, 0.96849293,\n",
       "       0.24119424, 0.22981965, 0.08676463, 0.73515612, 0.35241462,\n",
       "       0.02335305, 0.30764657, 0.84614387, 0.28255532, 0.26861225,\n",
       "       0.12340695, 0.17420082, 0.86271084, 0.0374326 , 0.64859023,\n",
       "       0.32210762, 0.56565166, 0.56099318, 0.24627673, 0.7181909 ,\n",
       "       0.01697645, 0.06095924, 0.97548919, 0.71152703, 0.44608738,\n",
       "       0.1901221 , 0.12680523, 0.20487893, 0.23933045, 0.47019797,\n",
       "       0.11497306, 0.16683469, 0.69729389, 0.48464107, 0.12622315,\n",
       "       0.08283069, 0.22662227, 0.05692467, 0.22541019, 0.26854276,\n",
       "       0.14398501, 0.81893584, 0.21567101, 0.09058724, 0.590639  ,\n",
       "       0.07801109, 0.42836221, 0.05586077, 0.10240087])"
      ]
     },
     "execution_count": 276,
     "metadata": {},
     "output_type": "execute_result"
    }
   ],
   "source": [
    "pred_proba1"
   ]
  },
  {
   "cell_type": "code",
   "execution_count": 278,
   "id": "ef4a3677",
   "metadata": {},
   "outputs": [
    {
     "name": "stdout",
     "output_type": "stream",
     "text": [
      "오차행렬\n",
      "[[82 18]\n",
      " [15 39]]\n",
      "정확도: 0.7857, 정밀도: 0.6842, 재현율: 0.7222, F1: 0.7027, AUC: 0.8461\n"
     ]
    }
   ],
   "source": [
    "get_clf_eval(y_test, pred_th, pred_proba1)"
   ]
  },
  {
   "cell_type": "code",
   "execution_count": null,
   "id": "27b78b99",
   "metadata": {},
   "outputs": [],
   "source": []
  }
 ],
 "metadata": {
  "kernelspec": {
   "display_name": "Python 3 (ipykernel)",
   "language": "python",
   "name": "python3"
  },
  "language_info": {
   "codemirror_mode": {
    "name": "ipython",
    "version": 3
   },
   "file_extension": ".py",
   "mimetype": "text/x-python",
   "name": "python",
   "nbconvert_exporter": "python",
   "pygments_lexer": "ipython3",
   "version": "3.11.5"
  }
 },
 "nbformat": 4,
 "nbformat_minor": 5
}
